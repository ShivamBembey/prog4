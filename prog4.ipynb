{
 "cells": [
  {
   "cell_type": "code",
   "execution_count": 1,
   "id": "377bc097",
   "metadata": {},
   "outputs": [
    {
     "name": "stdout",
     "output_type": "stream",
     "text": [
      "15\n",
      "377\n"
     ]
    }
   ],
   "source": [
    "# Nth term of Fibonacci Series\n",
    "def fibonacci(n):\n",
    "    if n==1:\n",
    "        return 0\n",
    "    elif n==2:\n",
    "        return 1\n",
    "    else:\n",
    "        return fibonacci(n-1) + fibonacci(n-2)\n",
    "\n",
    "n = int(input())\n",
    "print(fibonacci(n))"
   ]
  },
  {
   "cell_type": "code",
   "execution_count": 4,
   "id": "dfa4322b",
   "metadata": {},
   "outputs": [
    {
     "name": "stdout",
     "output_type": "stream",
     "text": [
      "86\n",
      "42\n",
      "84\n"
     ]
    }
   ],
   "source": [
    "# Doubling a number\n",
    "def myfunc(n):\n",
    "    return lambda a : a * n\n",
    "\n",
    "double = myfunc(2)\n",
    "# print(double(43))\n",
    "print(double(int(input())))\n"
   ]
  },
  {
   "cell_type": "code",
   "execution_count": 35,
   "id": "5b0b333e",
   "metadata": {},
   "outputs": [],
   "source": [
    "# Writing in File\n",
    "f = open(\"aboutMe.txt\" ,'w')\n",
    "f.write(\"My name is Shivam \\nI was born and brought up in Ambala\")\n",
    "f.close()"
   ]
  },
  {
   "cell_type": "code",
   "execution_count": 36,
   "id": "428040ea",
   "metadata": {},
   "outputs": [
    {
     "name": "stdout",
     "output_type": "stream",
     "text": [
      "My name is Shivam \n",
      "I was born and brought up in Ambala\n"
     ]
    }
   ],
   "source": [
    "# Reading data from a text file\n",
    "f =  open(\"aboutMe.txt\")\n",
    "data = f.read()\n",
    "print(data)\n",
    "f.close()"
   ]
  },
  {
   "cell_type": "code",
   "execution_count": 41,
   "id": "7d929fb1",
   "metadata": {},
   "outputs": [
    {
     "name": "stdout",
     "output_type": "stream",
     "text": [
      "My name is Shivam \n",
      "\n"
     ]
    }
   ],
   "source": [
    "# Alternative to read a file without using close()\n",
    "with open(\"aboutMe.txt\") as f: \n",
    "    a = f.readline()\n",
    "print(a)"
   ]
  },
  {
   "cell_type": "code",
   "execution_count": 42,
   "id": "2e005c32",
   "metadata": {},
   "outputs": [
    {
     "name": "stdout",
     "output_type": "stream",
     "text": [
      "\n"
     ]
    }
   ],
   "source": [
    "# Appending a File\n",
    "with open(\"aboutMe.txt\",'a+') as f: \n",
    "    f.write(\"I look forward to get along with all of you\")\n",
    "    a=f.read()\n",
    "    print(a)"
   ]
  },
  {
   "cell_type": "code",
   "execution_count": null,
   "id": "7d0ead0e",
   "metadata": {},
   "outputs": [],
   "source": [
    "import os\n",
    "os.remove(\"abc.txt\")#removing file\n",
    "os.rmdir('folder1')#removing folder"
   ]
  }
 ],
 "metadata": {
  "kernelspec": {
   "display_name": "Python 3 (ipykernel)",
   "language": "python",
   "name": "python3"
  },
  "language_info": {
   "codemirror_mode": {
    "name": "ipython",
    "version": 3
   },
   "file_extension": ".py",
   "mimetype": "text/x-python",
   "name": "python",
   "nbconvert_exporter": "python",
   "pygments_lexer": "ipython3",
   "version": "3.9.12"
  }
 },
 "nbformat": 4,
 "nbformat_minor": 5
}
